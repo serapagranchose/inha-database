{
  "nbformat": 4,
  "nbformat_minor": 0,
  "metadata": {
    "colab": {
      "provenance": []
    },
    "kernelspec": {
      "name": "python3",
      "display_name": "Python 3"
    },
    "language_info": {
      "name": "python"
    }
  },
  "cells": [
    {
      "cell_type": "code",
      "execution_count": null,
      "metadata": {
        "id": "biQtz4wnk2Vl"
      },
      "outputs": [],
      "source": [
        "select sum(obtainedGrade)/sum(credit)*4.5, ID  from (select t.ID t.grade, c.credit, case\n",
        "        when t.grade = 'A+' then 4.5 * c.credit\n",
        "        when t.grade = 'A' then 4 * c.credit\n",
        "        when t.grade = 'B+' then 3.5 * c.credit\n",
        "        when t.grade = 'B' then 3 * c.credit\n",
        "        when t.grade = 'C+' then 2.5 * c.credit\n",
        "        when t.grade = 'C' then 2 * c.credit\n",
        "        when t.grade = 'D+' then 1.5 * c.credit\n",
        "        when t.grade = 'D' then 1 * c.credit\n",
        "        else 0\n",
        "        end as obtainedGrade \n",
        "from takes t left join course c where t.course_id = c.course_id \n",
        "where t.year = 2008 and t.semester = Spring) \n",
        "group by ID"
      ]
    }
  ]
}